{
 "cells": [
  {
   "cell_type": "code",
   "execution_count": 6,
   "id": "efd2278d",
   "metadata": {},
   "outputs": [
    {
     "name": "stdout",
     "output_type": "stream",
     "text": [
      " * Serving Flask app \"__main__\" (lazy loading)\n",
      " * Environment: production\n",
      "\u001b[31m   WARNING: This is a development server. Do not use it in a production deployment.\u001b[0m\n",
      "\u001b[2m   Use a production WSGI server instead.\u001b[0m\n",
      " * Debug mode: off\n"
     ]
    },
    {
     "name": "stderr",
     "output_type": "stream",
     "text": [
      " * Running on http://127.0.0.1:5001/ (Press CTRL+C to quit)\n",
      "127.0.0.1 - - [30/Sep/2024 00:11:36] \"GET / HTTP/1.1\" 200 -\n"
     ]
    }
   ],
   "source": [
    "from flask import Flask, request, jsonify\n",
    "from textblob import TextBlob\n",
    "import mysql.connector\n",
    "import threading\n",
    "\n",
    "app = Flask(__name__)\n",
    "\n",
    "# Connect to MySQL database\n",
    "def get_db_connection():\n",
    "    conn = mysql.connector.connect(\n",
    "        host=\"localhost\",\n",
    "        user=\"root\",\n",
    "        password=\"12345\",\n",
    "        database=\"IPHONE\"\n",
    "    )\n",
    "    return conn\n",
    "\n",
    "# Home route\n",
    "@app.route('/')\n",
    "def home():\n",
    "    return \"Welcome to the Amazon Reviews API!\"\n",
    "\n",
    "# Sentiment Analysis API\n",
    "@app.route('/sentiment', methods=['POST'])\n",
    "def analyze_sentiment():\n",
    "    data = request.json\n",
    "    review_text = data.get('review_text', '')\n",
    "    \n",
    "    if not review_text:\n",
    "        return jsonify({'error': 'No review text provided'}), 400\n",
    "    \n",
    "    # Perform sentiment analysis\n",
    "    blob = TextBlob(review_text)\n",
    "    sentiment_score = blob.sentiment.polarity  # Range from -1 (negative) to +1 (positive)\n",
    "\n",
    "    return jsonify({'sentiment_score': sentiment_score})\n",
    "\n",
    "# Review Retrieval API\n",
    "@app.route('/reviews', methods=['GET'])\n",
    "def get_reviews():\n",
    "    color = request.args.get('color')\n",
    "    style_name = request.args.get('style_name')\n",
    "    verified_purchase = request.args.get('verified_purchase')\n",
    "\n",
    "    conn = get_db_connection()\n",
    "    cursor = conn.cursor()\n",
    "\n",
    "    query = \"SELECT * FROM reviews WHERE color=%s AND style_name=%s AND verified_purchase=%s\"\n",
    "    cursor.execute(query, (color, style_name, verified_purchase))\n",
    "    \n",
    "    reviews = cursor.fetchall()\n",
    "    \n",
    "    cursor.close()\n",
    "    conn.close()\n",
    "\n",
    "    # Convert fetched data to a list of dictionaries for JSON response\n",
    "    reviews_list = []\n",
    "    for review in reviews:\n",
    "        reviews_list.append({\n",
    "            'review_title': review[0],\n",
    "            'review_text': review[1],\n",
    "            'style_name': review[2],\n",
    "            'color': review[3],\n",
    "            'verified_purchase': review[4]\n",
    "        })\n",
    "\n",
    "        return jsonify(reviews_list)\n",
    "# Run the app in a separate thread\n",
    "def run_app():\n",
    "    app.run(port=5001)\n",
    "\n",
    "# Start the Flask app in a new thread\n",
    "threading.Thread(target=run_app).start()"
   ]
  },
  {
   "cell_type": "code",
   "execution_count": null,
   "id": "d8fbdcfd",
   "metadata": {},
   "outputs": [],
   "source": []
  }
 ],
 "metadata": {
  "kernelspec": {
   "display_name": "Python 3 (ipykernel)",
   "language": "python",
   "name": "python3"
  },
  "language_info": {
   "codemirror_mode": {
    "name": "ipython",
    "version": 3
   },
   "file_extension": ".py",
   "mimetype": "text/x-python",
   "name": "python",
   "nbconvert_exporter": "python",
   "pygments_lexer": "ipython3",
   "version": "3.9.7"
  }
 },
 "nbformat": 4,
 "nbformat_minor": 5
}
